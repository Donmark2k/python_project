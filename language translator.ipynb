{
 "cells": [
  {
   "cell_type": "code",
   "execution_count": 1,
   "id": "56e555d6",
   "metadata": {},
   "outputs": [],
   "source": [
    "#!pip install googletrans==4.0.0-rc1\n"
   ]
  },
  {
   "cell_type": "code",
   "execution_count": 2,
   "id": "1a70bdc2",
   "metadata": {},
   "outputs": [],
   "source": [
    "from tkinter import *\n",
    "from tkinter import ttk\n",
    "from googletrans import Translator, LANGUAGES\n"
   ]
  },
  {
   "cell_type": "code",
   "execution_count": 3,
   "id": "0072c4f6",
   "metadata": {},
   "outputs": [],
   "source": [
    "\n",
    "root = Tk()\n",
    "root.geometry('1100x320')\n",
    "root.resizable(0,0)\n",
    "root['bg'] = '#87CEEB'\n",
    "root.title('A Simple language translator')\n",
    "Label(root, text = \"Language Translator\", font = \"Arial 20 bold\").pack()\n"
   ]
  },
  {
   "cell_type": "code",
   "execution_count": 4,
   "id": "ff06ac27",
   "metadata": {},
   "outputs": [
    {
     "data": {
      "text/plain": [
       "''"
      ]
     },
     "execution_count": 4,
     "metadata": {},
     "output_type": "execute_result"
    }
   ],
   "source": [
    "Label(root, text=\"Enter text\", font=\"Arial 13 bold\", bg= '#fffff4').place(x=165, y=60)\n",
    "Input_text = Entry(root, width=60)\n",
    "Input_text.place(x=30, y=130)\n",
    "Input_text.get()\n"
   ]
  },
  {
   "cell_type": "code",
   "execution_count": null,
   "id": "2d326961",
   "metadata": {},
   "outputs": [],
   "source": [
    "Label(root, text=\"Output\", font=\"Arial 13 bold\", bg= '#fffff4').place(x=780, y=90)\n",
    "Output_text = Text(root, font= \"Arial 10\", height=7, wrap=WORD, padx=5, pady=5, width=50)\n",
    "Output_text.place(x=600, y=130)\n",
    "\n",
    "language = list(LANGUAGES.values())\n",
    "dest_lang = ttk.Combobox(root, values = language)\n",
    "dest_lang.place(x=130, y=100)\n",
    "dest_lang.set(\"Choose language\")\n",
    "\n",
    "def Translate():\n",
    "    translator = Translator()\n",
    "    translated = translator.translate(text=Input_text.get(), dest = dest_lang.get())\n",
    "    Output_text.delete(1.0, END)\n",
    "    Output_text.insert(END, translated.text)\n",
    "    \n",
    "trans_btn = Button(root, text = 'Translate', font = 'Arial 12 bold', pady=5, command=Translate, bg='#ff3456', activebackground= '#000000')\n",
    "trans_btn.place(x=445, y=100)\n",
    "root.mainloop()"
   ]
  },
  {
   "cell_type": "code",
   "execution_count": null,
   "id": "a2eb1e57",
   "metadata": {},
   "outputs": [],
   "source": []
  },
  {
   "cell_type": "code",
   "execution_count": null,
   "id": "440c107a",
   "metadata": {},
   "outputs": [],
   "source": []
  }
 ],
 "metadata": {
  "kernelspec": {
   "display_name": "Python 3 (ipykernel)",
   "language": "python",
   "name": "python3"
  },
  "language_info": {
   "codemirror_mode": {
    "name": "ipython",
    "version": 3
   },
   "file_extension": ".py",
   "mimetype": "text/x-python",
   "name": "python",
   "nbconvert_exporter": "python",
   "pygments_lexer": "ipython3",
   "version": "3.11.5"
  }
 },
 "nbformat": 4,
 "nbformat_minor": 5
}
